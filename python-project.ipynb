{
 "cells": [
  {
   "cell_type": "markdown",
   "id": "340cefe8",
   "metadata": {
    "papermill": {
     "duration": 0.004002,
     "end_time": "2023-04-20T22:40:40.200374",
     "exception": false,
     "start_time": "2023-04-20T22:40:40.196372",
     "status": "completed"
    },
    "tags": []
   },
   "source": [
    "# Python-Project"
   ]
  },
  {
   "cell_type": "code",
   "execution_count": 1,
   "id": "b1599061",
   "metadata": {
    "execution": {
     "iopub.execute_input": "2023-04-20T22:40:40.208596Z",
     "iopub.status.busy": "2023-04-20T22:40:40.208170Z",
     "iopub.status.idle": "2023-04-20T22:40:40.218495Z",
     "shell.execute_reply": "2023-04-20T22:40:40.217450Z"
    },
    "papermill": {
     "duration": 0.017079,
     "end_time": "2023-04-20T22:40:40.220830",
     "exception": false,
     "start_time": "2023-04-20T22:40:40.203751",
     "status": "completed"
    },
    "tags": []
   },
   "outputs": [],
   "source": [
    "import pandas as pd\n",
    "from pathlib import Path\n",
    "import csv\n"
   ]
  },
  {
   "cell_type": "code",
   "execution_count": 2,
   "id": "78c4f4e9",
   "metadata": {
    "execution": {
     "iopub.execute_input": "2023-04-20T22:40:40.228581Z",
     "iopub.status.busy": "2023-04-20T22:40:40.228145Z",
     "iopub.status.idle": "2023-04-20T22:40:40.233421Z",
     "shell.execute_reply": "2023-04-20T22:40:40.232296Z"
    },
    "papermill": {
     "duration": 0.011618,
     "end_time": "2023-04-20T22:40:40.235574",
     "exception": false,
     "start_time": "2023-04-20T22:40:40.223956",
     "status": "completed"
    },
    "tags": []
   },
   "outputs": [],
   "source": [
    "# Load in file\n",
    "# Store filepath in a variable\n",
    "budget_data = Path(\"/kaggle/input/python-project-3/Starter_Code/PyBank/Resources/budget_data.csv\")"
   ]
  },
  {
   "cell_type": "code",
   "execution_count": 3,
   "id": "5fe533a3",
   "metadata": {
    "execution": {
     "iopub.execute_input": "2023-04-20T22:40:40.243625Z",
     "iopub.status.busy": "2023-04-20T22:40:40.242710Z",
     "iopub.status.idle": "2023-04-20T22:40:40.274132Z",
     "shell.execute_reply": "2023-04-20T22:40:40.272714Z"
    },
    "papermill": {
     "duration": 0.038332,
     "end_time": "2023-04-20T22:40:40.276962",
     "exception": false,
     "start_time": "2023-04-20T22:40:40.238630",
     "status": "completed"
    },
    "tags": []
   },
   "outputs": [],
   "source": [
    "# Read and display the CSV with Pandas\n",
    "pybank_df=pd.read_csv(budget_data)"
   ]
  },
  {
   "cell_type": "code",
   "execution_count": 4,
   "id": "a7089901",
   "metadata": {
    "execution": {
     "iopub.execute_input": "2023-04-20T22:40:40.284912Z",
     "iopub.status.busy": "2023-04-20T22:40:40.284540Z",
     "iopub.status.idle": "2023-04-20T22:40:40.298204Z",
     "shell.execute_reply": "2023-04-20T22:40:40.297360Z"
    },
    "papermill": {
     "duration": 0.020151,
     "end_time": "2023-04-20T22:40:40.300321",
     "exception": false,
     "start_time": "2023-04-20T22:40:40.280170",
     "status": "completed"
    },
    "tags": []
   },
   "outputs": [
    {
     "data": {
      "text/plain": [
       "86"
      ]
     },
     "execution_count": 4,
     "metadata": {},
     "output_type": "execute_result"
    }
   ],
   "source": [
    "#count the total number of months\n",
    "monthsum = pybank_df[\"Date\"].count()\n",
    "monthsum"
   ]
  },
  {
   "cell_type": "code",
   "execution_count": 5,
   "id": "0eccf7ef",
   "metadata": {
    "execution": {
     "iopub.execute_input": "2023-04-20T22:40:40.308514Z",
     "iopub.status.busy": "2023-04-20T22:40:40.307832Z",
     "iopub.status.idle": "2023-04-20T22:40:40.315026Z",
     "shell.execute_reply": "2023-04-20T22:40:40.313911Z"
    },
    "papermill": {
     "duration": 0.013891,
     "end_time": "2023-04-20T22:40:40.317427",
     "exception": false,
     "start_time": "2023-04-20T22:40:40.303536",
     "status": "completed"
    },
    "tags": []
   },
   "outputs": [
    {
     "data": {
      "text/plain": [
       "22564198"
      ]
     },
     "execution_count": 5,
     "metadata": {},
     "output_type": "execute_result"
    }
   ],
   "source": [
    "#Count the net total profit/loss\n",
    "financialsum = pybank_df[\"Profit/Losses\"].sum()\n",
    "financialsum"
   ]
  },
  {
   "cell_type": "code",
   "execution_count": 6,
   "id": "e4341aa5",
   "metadata": {
    "execution": {
     "iopub.execute_input": "2023-04-20T22:40:40.325330Z",
     "iopub.status.busy": "2023-04-20T22:40:40.324944Z",
     "iopub.status.idle": "2023-04-20T22:40:40.337462Z",
     "shell.execute_reply": "2023-04-20T22:40:40.336296Z"
    },
    "papermill": {
     "duration": 0.019491,
     "end_time": "2023-04-20T22:40:40.340178",
     "exception": false,
     "start_time": "2023-04-20T22:40:40.320687",
     "status": "completed"
    },
    "tags": []
   },
   "outputs": [
    {
     "name": "stdout",
     "output_type": "stream",
     "text": [
      "Average Change: $ -8311.105882352942\n"
     ]
    }
   ],
   "source": [
    "#Average change of profit/loss, max change and min change\n",
    "pybank_df[\"shifted column\"] = pybank_df[\"Profit/Losses\"].shift(1)\n",
    "pybank_df['difference'] = pybank_df['Profit/Losses'] - pybank_df['shifted column']\n",
    "average = pybank_df['difference'].mean()\n",
    "maximum = pybank_df['difference'].max()\n",
    "minimum = pybank_df['difference'].min()\n",
    "print(\"Average Change:\",\"$\",average)"
   ]
  },
  {
   "cell_type": "code",
   "execution_count": 7,
   "id": "981b3d37",
   "metadata": {
    "execution": {
     "iopub.execute_input": "2023-04-20T22:40:40.348936Z",
     "iopub.status.busy": "2023-04-20T22:40:40.347994Z",
     "iopub.status.idle": "2023-04-20T22:40:40.353342Z",
     "shell.execute_reply": "2023-04-20T22:40:40.352285Z"
    },
    "papermill": {
     "duration": 0.01186,
     "end_time": "2023-04-20T22:40:40.355489",
     "exception": false,
     "start_time": "2023-04-20T22:40:40.343629",
     "status": "completed"
    },
    "tags": []
   },
   "outputs": [
    {
     "name": "stdout",
     "output_type": "stream",
     "text": [
      "Greatest Increase in Profits: $ 1862002.0\n"
     ]
    }
   ],
   "source": [
    "#Print maximum\n",
    "print(\"Greatest Increase in Profits:\",\"$\",maximum)"
   ]
  },
  {
   "cell_type": "code",
   "execution_count": 8,
   "id": "0b94ba9b",
   "metadata": {
    "execution": {
     "iopub.execute_input": "2023-04-20T22:40:40.364118Z",
     "iopub.status.busy": "2023-04-20T22:40:40.363360Z",
     "iopub.status.idle": "2023-04-20T22:40:40.368860Z",
     "shell.execute_reply": "2023-04-20T22:40:40.367755Z"
    },
    "papermill": {
     "duration": 0.012336,
     "end_time": "2023-04-20T22:40:40.371134",
     "exception": false,
     "start_time": "2023-04-20T22:40:40.358798",
     "status": "completed"
    },
    "tags": []
   },
   "outputs": [
    {
     "name": "stdout",
     "output_type": "stream",
     "text": [
      "Greatest Decrease in Profits: $ -1825558.0\n"
     ]
    }
   ],
   "source": [
    "#Print minimum\n",
    "print(\"Greatest Decrease in Profits:\",\"$\",minimum)"
   ]
  }
 ],
 "metadata": {
  "kernelspec": {
   "display_name": "Python 3",
   "language": "python",
   "name": "python3"
  },
  "language_info": {
   "codemirror_mode": {
    "name": "ipython",
    "version": 3
   },
   "file_extension": ".py",
   "mimetype": "text/x-python",
   "name": "python",
   "nbconvert_exporter": "python",
   "pygments_lexer": "ipython3",
   "version": "3.7.12"
  },
  "papermill": {
   "default_parameters": {},
   "duration": 10.887643,
   "end_time": "2023-04-20T22:40:40.996120",
   "environment_variables": {},
   "exception": null,
   "input_path": "__notebook__.ipynb",
   "output_path": "__notebook__.ipynb",
   "parameters": {},
   "start_time": "2023-04-20T22:40:30.108477",
   "version": "2.4.0"
  }
 },
 "nbformat": 4,
 "nbformat_minor": 5
}
