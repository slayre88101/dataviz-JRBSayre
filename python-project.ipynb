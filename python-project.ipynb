{
 "cells": [
  {
   "cell_type": "code",
   "execution_count": 1,
   "id": "86f8fd1f",
   "metadata": {
    "execution": {
     "iopub.execute_input": "2023-04-20T23:00:55.481267Z",
     "iopub.status.busy": "2023-04-20T23:00:55.480866Z",
     "iopub.status.idle": "2023-04-20T23:00:55.487350Z",
     "shell.execute_reply": "2023-04-20T23:00:55.486112Z"
    },
    "papermill": {
     "duration": 0.01609,
     "end_time": "2023-04-20T23:00:55.491055",
     "exception": false,
     "start_time": "2023-04-20T23:00:55.474965",
     "status": "completed"
    },
    "tags": []
   },
   "outputs": [],
   "source": [
    "# Python-Project"
   ]
  },
  {
   "cell_type": "code",
   "execution_count": 2,
   "id": "8b887719",
   "metadata": {
    "execution": {
     "iopub.execute_input": "2023-04-20T23:00:55.500005Z",
     "iopub.status.busy": "2023-04-20T23:00:55.499652Z",
     "iopub.status.idle": "2023-04-20T23:00:55.508130Z",
     "shell.execute_reply": "2023-04-20T23:00:55.507245Z"
    },
    "papermill": {
     "duration": 0.015338,
     "end_time": "2023-04-20T23:00:55.510226",
     "exception": false,
     "start_time": "2023-04-20T23:00:55.494888",
     "status": "completed"
    },
    "tags": []
   },
   "outputs": [],
   "source": [
    "import pandas as pd\n",
    "from pathlib import Path\n",
    "import csv\n"
   ]
  },
  {
   "cell_type": "code",
   "execution_count": 3,
   "id": "20d567e8",
   "metadata": {
    "execution": {
     "iopub.execute_input": "2023-04-20T23:00:55.519576Z",
     "iopub.status.busy": "2023-04-20T23:00:55.518618Z",
     "iopub.status.idle": "2023-04-20T23:00:55.523975Z",
     "shell.execute_reply": "2023-04-20T23:00:55.523007Z"
    },
    "papermill": {
     "duration": 0.012363,
     "end_time": "2023-04-20T23:00:55.526270",
     "exception": false,
     "start_time": "2023-04-20T23:00:55.513907",
     "status": "completed"
    },
    "tags": []
   },
   "outputs": [],
   "source": [
    "# Load in file\n",
    "# Store filepath in a variable\n",
    "budget_data = Path(\"/kaggle/input/python-project-3/Starter_Code/PyBank/Resources/budget_data.csv\")"
   ]
  },
  {
   "cell_type": "code",
   "execution_count": 4,
   "id": "8f5a9838",
   "metadata": {
    "execution": {
     "iopub.execute_input": "2023-04-20T23:00:55.535569Z",
     "iopub.status.busy": "2023-04-20T23:00:55.535046Z",
     "iopub.status.idle": "2023-04-20T23:00:55.553258Z",
     "shell.execute_reply": "2023-04-20T23:00:55.552369Z"
    },
    "papermill": {
     "duration": 0.025788,
     "end_time": "2023-04-20T23:00:55.555835",
     "exception": false,
     "start_time": "2023-04-20T23:00:55.530047",
     "status": "completed"
    },
    "tags": []
   },
   "outputs": [],
   "source": [
    "# Read and display the CSV with Pandas\n",
    "pybank_df=pd.read_csv(budget_data)"
   ]
  },
  {
   "cell_type": "code",
   "execution_count": 5,
   "id": "c32f74d4",
   "metadata": {
    "execution": {
     "iopub.execute_input": "2023-04-20T23:00:55.564796Z",
     "iopub.status.busy": "2023-04-20T23:00:55.563979Z",
     "iopub.status.idle": "2023-04-20T23:00:55.578966Z",
     "shell.execute_reply": "2023-04-20T23:00:55.577846Z"
    },
    "papermill": {
     "duration": 0.022177,
     "end_time": "2023-04-20T23:00:55.581594",
     "exception": false,
     "start_time": "2023-04-20T23:00:55.559417",
     "status": "completed"
    },
    "tags": []
   },
   "outputs": [
    {
     "data": {
      "text/plain": [
       "86"
      ]
     },
     "execution_count": 5,
     "metadata": {},
     "output_type": "execute_result"
    }
   ],
   "source": [
    "#count the total number of months\n",
    "monthsum = pybank_df[\"Date\"].count()\n",
    "monthsum"
   ]
  },
  {
   "cell_type": "code",
   "execution_count": 6,
   "id": "f73db14e",
   "metadata": {
    "execution": {
     "iopub.execute_input": "2023-04-20T23:00:55.590356Z",
     "iopub.status.busy": "2023-04-20T23:00:55.589972Z",
     "iopub.status.idle": "2023-04-20T23:00:55.597747Z",
     "shell.execute_reply": "2023-04-20T23:00:55.596623Z"
    },
    "papermill": {
     "duration": 0.01468,
     "end_time": "2023-04-20T23:00:55.599923",
     "exception": false,
     "start_time": "2023-04-20T23:00:55.585243",
     "status": "completed"
    },
    "tags": []
   },
   "outputs": [
    {
     "data": {
      "text/plain": [
       "22564198"
      ]
     },
     "execution_count": 6,
     "metadata": {},
     "output_type": "execute_result"
    }
   ],
   "source": [
    "#Count the net total profit/loss\n",
    "financialsum = pybank_df[\"Profit/Losses\"].sum()\n",
    "financialsum"
   ]
  },
  {
   "cell_type": "code",
   "execution_count": 7,
   "id": "931f8748",
   "metadata": {
    "execution": {
     "iopub.execute_input": "2023-04-20T23:00:55.609221Z",
     "iopub.status.busy": "2023-04-20T23:00:55.608842Z",
     "iopub.status.idle": "2023-04-20T23:00:55.621105Z",
     "shell.execute_reply": "2023-04-20T23:00:55.619608Z"
    },
    "papermill": {
     "duration": 0.020181,
     "end_time": "2023-04-20T23:00:55.623884",
     "exception": false,
     "start_time": "2023-04-20T23:00:55.603703",
     "status": "completed"
    },
    "tags": []
   },
   "outputs": [
    {
     "name": "stdout",
     "output_type": "stream",
     "text": [
      "Average Change: $ -8311.105882352942\n"
     ]
    }
   ],
   "source": [
    "#Average change of profit/loss, max change and min change\n",
    "pybank_df[\"shifted column\"] = pybank_df[\"Profit/Losses\"].shift(1)\n",
    "pybank_df['difference'] = pybank_df['Profit/Losses'] - pybank_df['shifted column']\n",
    "average = pybank_df['difference'].mean()\n",
    "maximum = pybank_df['difference'].max()\n",
    "minimum = pybank_df['difference'].min()\n",
    "print(\"Average Change:\",\"$\",average)"
   ]
  },
  {
   "cell_type": "code",
   "execution_count": 8,
   "id": "4d6f03a2",
   "metadata": {
    "execution": {
     "iopub.execute_input": "2023-04-20T23:00:55.634350Z",
     "iopub.status.busy": "2023-04-20T23:00:55.633154Z",
     "iopub.status.idle": "2023-04-20T23:00:55.639245Z",
     "shell.execute_reply": "2023-04-20T23:00:55.638015Z"
    },
    "papermill": {
     "duration": 0.013778,
     "end_time": "2023-04-20T23:00:55.641549",
     "exception": false,
     "start_time": "2023-04-20T23:00:55.627771",
     "status": "completed"
    },
    "tags": []
   },
   "outputs": [
    {
     "name": "stdout",
     "output_type": "stream",
     "text": [
      "Greatest Increase in Profits: $ 1862002.0\n"
     ]
    }
   ],
   "source": [
    "#Print maximum\n",
    "print(\"Greatest Increase in Profits:\",\"$\",maximum)"
   ]
  },
  {
   "cell_type": "code",
   "execution_count": 9,
   "id": "4946504e",
   "metadata": {
    "execution": {
     "iopub.execute_input": "2023-04-20T23:00:55.650849Z",
     "iopub.status.busy": "2023-04-20T23:00:55.650496Z",
     "iopub.status.idle": "2023-04-20T23:00:55.656237Z",
     "shell.execute_reply": "2023-04-20T23:00:55.654699Z"
    },
    "papermill": {
     "duration": 0.012986,
     "end_time": "2023-04-20T23:00:55.658450",
     "exception": false,
     "start_time": "2023-04-20T23:00:55.645464",
     "status": "completed"
    },
    "tags": []
   },
   "outputs": [
    {
     "name": "stdout",
     "output_type": "stream",
     "text": [
      "Greatest Decrease in Profits: $ -1825558.0\n"
     ]
    }
   ],
   "source": [
    "#Print minimum\n",
    "print(\"Greatest Decrease in Profits:\",\"$\",minimum)"
   ]
  },
  {
   "cell_type": "code",
   "execution_count": 10,
   "id": "7a620c7a",
   "metadata": {
    "execution": {
     "iopub.execute_input": "2023-04-20T23:00:55.668145Z",
     "iopub.status.busy": "2023-04-20T23:00:55.667246Z",
     "iopub.status.idle": "2023-04-20T23:00:55.692371Z",
     "shell.execute_reply": "2023-04-20T23:00:55.691390Z"
    },
    "papermill": {
     "duration": 0.032384,
     "end_time": "2023-04-20T23:00:55.694629",
     "exception": false,
     "start_time": "2023-04-20T23:00:55.662245",
     "status": "completed"
    },
    "tags": []
   },
   "outputs": [
    {
     "data": {
      "text/html": [
       "<div>\n",
       "<style scoped>\n",
       "    .dataframe tbody tr th:only-of-type {\n",
       "        vertical-align: middle;\n",
       "    }\n",
       "\n",
       "    .dataframe tbody tr th {\n",
       "        vertical-align: top;\n",
       "    }\n",
       "\n",
       "    .dataframe thead th {\n",
       "        text-align: right;\n",
       "    }\n",
       "</style>\n",
       "<table border=\"1\" class=\"dataframe\">\n",
       "  <thead>\n",
       "    <tr style=\"text-align: right;\">\n",
       "      <th></th>\n",
       "      <th>Total number of months</th>\n",
       "      <th>Total sum of profits/losses</th>\n",
       "      <th>Average change in profits/losses</th>\n",
       "      <th>Greatest increase of profits</th>\n",
       "      <th>Greatest decrease of profits</th>\n",
       "    </tr>\n",
       "  </thead>\n",
       "  <tbody>\n",
       "    <tr>\n",
       "      <th>0</th>\n",
       "      <td>86</td>\n",
       "      <td>22564198</td>\n",
       "      <td>-8311.105882</td>\n",
       "      <td>1862002.0</td>\n",
       "      <td>-1825558.0</td>\n",
       "    </tr>\n",
       "  </tbody>\n",
       "</table>\n",
       "</div>"
      ],
      "text/plain": [
       "   Total number of months  Total sum of profits/losses  \\\n",
       "0                      86                     22564198   \n",
       "\n",
       "   Average change in profits/losses  Greatest increase of profits  \\\n",
       "0                      -8311.105882                     1862002.0   \n",
       "\n",
       "   Greatest decrease of profits  \n",
       "0                    -1825558.0  "
      ]
     },
     "execution_count": 10,
     "metadata": {},
     "output_type": "execute_result"
    }
   ],
   "source": [
    "#Create a new DF for the analysis\n",
    "raw_data_info = {\n",
    "    \"Total number of months\": [monthsum],\n",
    "    \"Total sum of profits/losses\": [financialsum],\n",
    "    \"Average change in profits/losses\": [average],\n",
    "    \"Greatest increase of profits\":[maximum],\n",
    "    \"Greatest decrease of profits\" : [minimum]\n",
    "}\n",
    "info_df = pd.DataFrame(raw_data_info, columns=[\"Total number of months\", \"Total sum of profits/losses\", \"Average change in profits/losses\",\"Greatest increase of profits\",\"Greatest decrease of profits\"])\n",
    "info_df"
   ]
  },
  {
   "cell_type": "code",
   "execution_count": 11,
   "id": "2351a3ec",
   "metadata": {
    "execution": {
     "iopub.execute_input": "2023-04-20T23:00:55.704519Z",
     "iopub.status.busy": "2023-04-20T23:00:55.703897Z",
     "iopub.status.idle": "2023-04-20T23:00:55.714253Z",
     "shell.execute_reply": "2023-04-20T23:00:55.713181Z"
    },
    "papermill": {
     "duration": 0.018098,
     "end_time": "2023-04-20T23:00:55.716736",
     "exception": false,
     "start_time": "2023-04-20T23:00:55.698638",
     "status": "completed"
    },
    "tags": []
   },
   "outputs": [],
   "source": [
    "#Save the DataFrame to a CSV file.\n",
    "info_df.to_csv('PyBank.csv',index=False)"
   ]
  }
 ],
 "metadata": {
  "kernelspec": {
   "display_name": "Python 3",
   "language": "python",
   "name": "python3"
  },
  "language_info": {
   "codemirror_mode": {
    "name": "ipython",
    "version": 3
   },
   "file_extension": ".py",
   "mimetype": "text/x-python",
   "name": "python",
   "nbconvert_exporter": "python",
   "pygments_lexer": "ipython3",
   "version": "3.7.12"
  },
  "papermill": {
   "default_parameters": {},
   "duration": 10.74853,
   "end_time": "2023-04-20T23:00:56.343991",
   "environment_variables": {},
   "exception": null,
   "input_path": "__notebook__.ipynb",
   "output_path": "__notebook__.ipynb",
   "parameters": {},
   "start_time": "2023-04-20T23:00:45.595461",
   "version": "2.4.0"
  }
 },
 "nbformat": 4,
 "nbformat_minor": 5
}
